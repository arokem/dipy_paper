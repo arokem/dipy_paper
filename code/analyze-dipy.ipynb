{
 "metadata": {
  "name": ""
 },
 "nbformat": 3,
 "nbformat_minor": 0,
 "worksheets": [
  {
   "cells": [
    {
     "cell_type": "code",
     "collapsed": false,
     "input": [
      "import git\n",
      "import pandas as pd\n",
      "import datetime\n",
      "import matplotlib as mpl\n"
     ],
     "language": "python",
     "metadata": {},
     "outputs": [
      {
       "output_type": "stream",
       "stream": "stderr",
       "text": [
        "/Applications/Canopy.app/appdata/canopy-1.0.3.1262.macosx-x86_64/Canopy.app/Contents/lib/python2.7/site-packages/pytz/__init__.py:35: UserWarning: Module argparse was already imported from /Applications/Canopy.app/appdata/canopy-1.0.3.1262.macosx-x86_64/Canopy.app/Contents/lib/python2.7/argparse.pyc, but /Users/arokem/Library/Enthought/Canopy_64bit/User/lib/python2.7/site-packages is being added to sys.path\n",
        "  from pkg_resources import resource_stream\n"
       ]
      }
     ],
     "prompt_number": 1
    },
    {
     "cell_type": "code",
     "collapsed": false,
     "input": [
      "mpl.rc('font', **{'size'   : 18})"
     ],
     "language": "python",
     "metadata": {},
     "outputs": [],
     "prompt_number": 2
    },
    {
     "cell_type": "code",
     "collapsed": false,
     "input": [
      "repo_dir = '/Users/arokem/source/dipy/'"
     ],
     "language": "python",
     "metadata": {},
     "outputs": [],
     "prompt_number": 3
    },
    {
     "cell_type": "code",
     "collapsed": false,
     "input": [
      "R = git.Repo(repo_dir)"
     ],
     "language": "python",
     "metadata": {},
     "outputs": [],
     "prompt_number": 4
    },
    {
     "cell_type": "code",
     "collapsed": false,
     "input": [
      "log = R.log()"
     ],
     "language": "python",
     "metadata": {},
     "outputs": [],
     "prompt_number": 5
    },
    {
     "cell_type": "code",
     "collapsed": false,
     "input": [
      "c = log[-1]"
     ],
     "language": "python",
     "metadata": {},
     "outputs": [],
     "prompt_number": 6
    },
    {
     "cell_type": "code",
     "collapsed": false,
     "input": [
      "dd = {}\n",
      "time = []\n",
      "author = []\n",
      "n_authors = 0\n",
      "cum_authors = []\n",
      "duplicate_authors = {'Ariel Rokem': ['Ariel Rokem', 'arokem'], \n",
      "                     'Bago Amirbekian': ['MrBago', 'Bago Amirbekian'],\n",
      "                     'Christopher Nguyen': ['Christopher Nguyen', 'Christopher'],\n",
      "                     'Ian Nimmo-Smith': ['Ian Nimmo-Smith', 'iannimmosmith'],\n",
      "                     'Maxime Descoteaux' : ['Maxime Descoteaux', 'mdesco'],\n",
      "                     'Eleftherios Garyfallidis': ['Eleftherios Garyfallidis', 'Dipy Developers']}\n",
      "\n",
      "for c in log[-1::-1]:\n",
      "    time.append(datetime.datetime(c.committed_date.tm_year, c.committed_date.tm_mon, c.committed_date.tm_mday))\n",
      "    author = c.committer.name\n",
      "    duplicate = False\n",
      "    for k in duplicate_authors:\n",
      "        if author in duplicate_authors[k]:\n",
      "            author = k\n",
      "\n",
      "    if dd.has_key(author):\n",
      "        dd[author]+=1\n",
      "    else:\n",
      "        n_authors +=1\n",
      "        dd[author] = 1\n",
      "    cum_authors.append(n_authors)\n"
     ],
     "language": "python",
     "metadata": {},
     "outputs": [],
     "prompt_number": 7
    },
    {
     "cell_type": "code",
     "collapsed": false,
     "input": [
      "dd"
     ],
     "language": "python",
     "metadata": {},
     "outputs": [
      {
       "metadata": {},
       "output_type": "pyout",
       "prompt_number": 8,
       "text": [
        "{'Ariel Rokem': 274,\n",
        " 'Bago Amirbekian': 285,\n",
        " 'Christopher Nguyen': 53,\n",
        " 'Eleftherios Garyfallidis': 937,\n",
        " 'Emanuele Olivetti': 5,\n",
        " 'Emmanuel Caruyer': 3,\n",
        " 'Erik Ziegler': 11,\n",
        " 'Ian Nimmo-Smith': 145,\n",
        " 'Jean-Christophe Houde': 1,\n",
        " 'Maria Luisa Mandelli': 1,\n",
        " 'Matthew Brett': 432,\n",
        " 'Matthias Ekman': 3,\n",
        " 'Matthieu Dumont': 62,\n",
        " 'Mauro Zucchelli': 29,\n",
        " 'Maxime Descoteaux': 19,\n",
        " 'Michael Paquette': 5,\n",
        " 'Samuel St-Jean': 90,\n",
        " 'Stefan van der Walt': 75,\n",
        " 'Yaroslav Halchenko': 7,\n",
        " 'endolith': 4,\n",
        " 'smerlet': 1}"
       ]
      }
     ],
     "prompt_number": 8
    },
    {
     "cell_type": "code",
     "collapsed": false,
     "input": [
      "tags = R.tags[:2]\n",
      "\n",
      "tag_times = [datetime.datetime(t.commit.committed_date.tm_year, \n",
      "                               t.commit.committed_date.tm_mon, \n",
      "                               t.commit.committed_date.tm_mday) for t in tags]"
     ],
     "language": "python",
     "metadata": {},
     "outputs": [],
     "prompt_number": 9
    },
    {
     "cell_type": "code",
     "collapsed": false,
     "input": [
      "ts = pd.Series(cum_authors, index=time)"
     ],
     "language": "python",
     "metadata": {},
     "outputs": [],
     "prompt_number": 10
    },
    {
     "cell_type": "code",
     "collapsed": false,
     "input": [
      "fig, ax = plt.subplots(1)\n",
      "ax = ts.plot(use_index=True, linewidth=2)\n",
      "ax.figure.autofmt_xdate()\n",
      "ax.set_ylim([0,22])\n",
      "ax.arrow(tag_times[0], 2.5, 0, -1.5, head_width=25, head_length=1, fc='k')\n",
      "ax.text(tag_times[0], 3, 'release 0.5', horizontalalignment='center', fontsize=14)\n",
      "ax.arrow(tag_times[1], 2.5, 0, -1.5, head_width=25, head_length=1, fc='k')\n",
      "ax.text(tag_times[1], 3, 'release 0.6', horizontalalignment='center', fontsize=14)\n",
      "fig.set_size_inches([10,8])\n",
      "ax.set_xlabel('Time')\n",
      "ax.set_ylabel('Cumulative # contributors')\n",
      "fig.savefig('../paper/Figures/fig-gh.eps', dpi=300)"
     ],
     "language": "python",
     "metadata": {},
     "outputs": [
      {
       "metadata": {},
       "output_type": "display_data",
       "png": "[encoded data removed]",
       "text": [
        "<matplotlib.figure.Figure at 0x10ead23d0>"
       ]
      }
     ],
     "prompt_number": 11
    },
    {
     "cell_type": "code",
     "collapsed": false,
     "input": [],
     "language": "python",
     "metadata": {},
     "outputs": [],
     "prompt_number": 11
    }
   ],
   "metadata": {}
  }
 ]
}